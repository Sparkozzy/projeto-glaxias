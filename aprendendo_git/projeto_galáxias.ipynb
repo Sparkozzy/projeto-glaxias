{
  "cells": [
    {
      "cell_type": "markdown",
      "id": "ad32ee6d-6166-48f1-893e-0c2e62949443",
      "metadata": {
        "id": "ad32ee6d-6166-48f1-893e-0c2e62949443"
      },
      "source": [
        "# FSC7114 - Introdução à Física Computacional\n",
        "## Projeto final\n",
        "### Nome: Seu Nome"
      ]
    },
    {
      "cell_type": "markdown",
      "id": "402a4109-e350-4485-b2d3-4c11aaa7da10",
      "metadata": {
        "id": "402a4109-e350-4485-b2d3-4c11aaa7da10"
      },
      "source": [
        "## Análise de dados experimentais\n",
        "\n",
        "Baixe no moodle o arquivo `galaxias.txt`. Esse arquivo contém uma tabela com dados de algumas galáxias observadas pelo [SDSS](https://www.sdss.org/). A tabela consiste num arrays de 18525 linhas por 5 colunas. Cada linha representa uma galáxia, e cada coluna uma informação diferente.\n",
        "\n",
        "0. magnitude absoluta na banda $g$: $M_g$\n",
        "1. magnitude absoluta na banda $r$: $M_r$\n",
        "2. magnitude aparente na banda $r$: $m_r$\n",
        "3. redshift (desvio para o vermelho): $z$\n",
        "4. índice de concentração na band $r$: $\\mathrm{CI}_r$"
      ]
    },
    {
      "cell_type": "markdown",
      "id": "221c632c-6687-4a5e-820e-7652884048d4",
      "metadata": {
        "id": "221c632c-6687-4a5e-820e-7652884048d4"
      },
      "source": [
        "Podemos ler essa tabela usando a função `numpy.genfromtxt()`."
      ]
    },
    {
      "cell_type": "code",
      "execution_count": null,
      "id": "199cee07-9268-4ebf-bbe2-64d0dc46bb71",
      "metadata": {
        "id": "199cee07-9268-4ebf-bbe2-64d0dc46bb71"
      },
      "outputs": [],
      "source": [
        "import numpy as np\n",
        "\n",
        "t = np.genfromtxt('galaxias.txt')"
      ]
    },
    {
      "cell_type": "markdown",
      "id": "f0fd790e-5779-4236-86e6-56b85924a17c",
      "metadata": {
        "id": "f0fd790e-5779-4236-86e6-56b85924a17c"
      },
      "source": [
        "### Item 1\n",
        "\n",
        "Separe o array `t` em 5 arrays unidimensionais, um com cada coluna."
      ]
    },
    {
      "cell_type": "code",
      "execution_count": null,
      "id": "b1600ec5-9856-435d-8c58-674715d282dd",
      "metadata": {
        "id": "b1600ec5-9856-435d-8c58-674715d282dd"
      },
      "outputs": [],
      "source": [
        "import numpy as np\n",
        "\n",
        "# Lendo os dados do arquivo galaxias.txt\n",
        "t = np.genfromtxt('galaxias.txt')\n",
        "\n",
        "# Separando as colunas em arrays unidimensionais\n",
        "Mg = t[:, 0]  # Magnitude absoluta na banda g\n",
        "Mr = t[:, 1]  # Magnitude absoluta na banda r\n",
        "mr = t[:, 2]  # Magnitude aparente na banda r\n",
        "z = t[:, 3]   # Redshift (desvio para o vermelho)\n",
        "CIr = t[:, 4] # Índice de concentração na banda r\n",
        "\n",
        "# Agora você tem 5 arrays unidimensionais: Mg, Mr, mr, z, CIr\n"
      ]
    },
    {
      "cell_type": "markdown",
      "id": "c7c36073-28be-40a3-97d0-bb867541d6e2",
      "metadata": {
        "id": "c7c36073-28be-40a3-97d0-bb867541d6e2"
      },
      "source": [
        "### Item 2\n",
        "\n",
        "O redshift $z$ é, segundo a lei de Hubble-Lemaître, proporcional à distância da galáxia. A magnitude aparente é o logaritmo do brilho aparente de uma galáxia, numa escala negativa, em um determinado filtro. Isto é,\n",
        "\n",
        "$$\n",
        "m_\\nu = -2.5 \\log F_\\nu + C.\n",
        "$$\n",
        "\n",
        "Quanto menor o número, mais brilhante é o objeto. Vamos selecionar uma amostra limitada em distância e brilho aparente, para ficar com galáxias próximas e mais brilhantes. Crie uma máscara de seleção (um array com valores booleanos) com os critérios: $z < 0.1$ e $m_r < 17$."
      ]
    },
    {
      "cell_type": "code",
      "execution_count": null,
      "id": "ca942529-5621-484a-8632-522f255ab6ed",
      "metadata": {
        "colab": {
          "base_uri": "https://localhost:8080/"
        },
        "id": "ca942529-5621-484a-8632-522f255ab6ed",
        "outputId": "1c0fe681-f2df-4e5d-b3f0-bd7a000224a2"
      },
      "outputs": [],
      "source": [
        "mask = (z < 0.1) & (mr < 17)\n"
      ]
    },
    {
      "cell_type": "markdown",
      "id": "ecfeb525-737b-4327-a86f-e3902487a8e5",
      "metadata": {
        "id": "ecfeb525-737b-4327-a86f-e3902487a8e5"
      },
      "source": [
        "### Item 3\n",
        "\n",
        "Faça o gráfico de $(M_g - M_r) \\times M_r$ desta amostra. Aqui vamos usar magnitudes absolutas, isto é, relacionadas ao brilho intrínseco das galáxias, descontando o termo que cai com o quadrado da distância. Como estão em log, $(M_g - M_r)$ é porporcional à razão de fluxos nos filtros $g$ (azul-verde) e $r$ (vermelho). Esta diferença quer dizer: quão mais brilhante a galáxia é no filtro $g$ em relação ao filtro $r$. Portanto, $(M_g - M_r)$ codifica uma cor.\n",
        "\n",
        "Assim, esse é um diagrama de cor em função do brilho intrínseco. Limites recomendados para o gráfico: $-24 \\leq M_r \\leq -17$ e $0 \\leq (M_g - M_r) \\leq 1$."
      ]
    },
    {
      "cell_type": "code",
      "execution_count": null,
      "id": "b1896b4a-f8e1-43e4-8348-94eedc424002",
      "metadata": {
        "colab": {
          "base_uri": "https://localhost:8080/",
          "height": 565
        },
        "id": "b1896b4a-f8e1-43e4-8348-94eedc424002",
        "outputId": "a0c7e222-a831-43f8-bac1-2af2c8e7edbe"
      },
      "outputs": [],
      "source": [
        "import numpy as np\n",
        "import matplotlib.pyplot as plt\n",
        "\n",
        "# Lendo os dados do arquivo galaxias.txt\n",
        "t = np.genfromtxt('galaxias.txt')\n",
        "\n",
        "# Separando as colunas em arrays unidimensionais\n",
        "Mg = t[:, 0]  # Magnitude absoluta na banda g\n",
        "Mr = t[:, 1]  # Magnitude absoluta na banda r\n",
        "z = t[:, 3]   # Redshift\n",
        "mr = t[:, 2]  # Magnitude aparente na banda r\n",
        "\n",
        "# Criando a máscara de seleção\n",
        "mask = (z < 0.1) & (mr < 17)\n",
        "\n",
        "# Filtrando os dados de acordo com a máscara\n",
        "Mg_selected = Mg[mask]\n",
        "Mr_selected = Mr[mask]\n",
        "\n",
        "# Calculando (Mg - Mr)\n",
        "color = Mg_selected - Mr_selected\n",
        "\n",
        "# Criando o gráfico\n",
        "plt.figure(figsize=(10, 6))\n",
        "plt.scatter(color, Mr_selected, c='blue', alpha=0.5)\n",
        "\n",
        "# Definindo limites para o gráfico\n",
        "plt.xlim(0, 1)       # Limites para (Mg - Mr)\n",
        "plt.ylim(-24, -17)   # Limites para Mr\n",
        "\n",
        "# Adicionando rótulos aos eixos e título\n",
        "plt.xlabel('Mg - Mr')\n",
        "plt.ylabel('Mr')\n",
        "plt.title('Diagrama de Cor (Mg - Mr) vs Brilho Intrínseco (Mr)')\n",
        "\n",
        "# Exibindo a grade\n",
        "plt.grid()\n",
        "\n",
        "# Mostrando o gráfico\n",
        "plt.show()\n"
      ]
    },
    {
      "cell_type": "markdown",
      "id": "6cff8668-4071-4cc2-b92d-771d6b39d5f5",
      "metadata": {
        "id": "6cff8668-4071-4cc2-b92d-771d6b39d5f5"
      },
      "source": [
        "### Item 4\n",
        "\n",
        "Repare que há um acúmulo de galáxias na parte superior e uma conjunto mais difuso abaixo. Esse grupo mais acima tem cor mais avermelhada, e é chamado de *sequência vermelha*. O outro grupo abaixo é chamado de *núvem azul*. São galáxias de características diferentes: tipicamente, as vemelhas são elípticas e as azuis são espirais.\n",
        "\n",
        "Podemos diferenciar as duas usando o índice de concentração $\\mathrm{CI}_r$, que mede quanto da luz da galáxia está concentrada no seu núcleo. Galáxias espirais têm $\\mathrm{CI}_r < 2.5$, enquanto as elípticas têm $\\mathrm{CI}_r > 2.5$. Faça máscaras para escolher esses dois tipos de galáxias, e então faça dois scatterplots no mesmo gráfico, cada um com uma cor diferente."
      ]
    },
    {
      "cell_type": "code",
      "execution_count": null,
      "id": "a758ceb8-1004-4cf2-b172-f73e0ff8c097",
      "metadata": {
        "colab": {
          "base_uri": "https://localhost:8080/",
          "height": 565
        },
        "id": "a758ceb8-1004-4cf2-b172-f73e0ff8c097",
        "outputId": "9309c0eb-5e65-4212-d45e-283f965164f5"
      },
      "outputs": [],
      "source": [
        "import numpy as np\n",
        "import matplotlib.pyplot as plt\n",
        "\n",
        "# Lendo os dados do arquivo galaxias.txt\n",
        "t = np.genfromtxt('galaxias.txt')\n",
        "\n",
        "# Separando as colunas em arrays unidimensionais\n",
        "Mg = t[:, 0]  # Magnitude absoluta na banda g\n",
        "Mr = t[:, 1]  # Magnitude absoluta na banda r\n",
        "z = t[:, 3]   # Redshift\n",
        "mr = t[:, 2]  # Magnitude aparente na banda r\n",
        "CIr = t[:, 4] # Índice de concentração na banda r\n",
        "\n",
        "# Criando a máscara de seleção para galáxias próximas e brilhantes\n",
        "mask = (z < 0.1) & (mr < 17)\n",
        "\n",
        "# Filtrando os dados de acordo com a máscara\n",
        "Mg_selected = Mg[mask]\n",
        "Mr_selected = Mr[mask]\n",
        "CIr_selected = CIr[mask]\n",
        "\n",
        "# Calculando (Mg - Mr)\n",
        "color = Mg_selected - Mr_selected\n",
        "\n",
        "# Criando máscaras para os dois tipos de galáxias\n",
        "mask_elliptical = CIr_selected > 2.5\n",
        "mask_spiral = CIr_selected < 2.5\n",
        "\n",
        "# Filtrando os dados para cada tipo de galáxia\n",
        "color_elliptical = color[mask_elliptical]\n",
        "Mr_elliptical = Mr_selected[mask_elliptical]\n",
        "\n",
        "color_spiral = color[mask_spiral]\n",
        "Mr_spiral = Mr_selected[mask_spiral]\n",
        "\n",
        "# Criando o gráfico\n",
        "plt.figure(figsize=(10, 6))\n",
        "\n",
        "# Plotando as galáxias elípticas em vermelho\n",
        "plt.scatter(color_elliptical, Mr_elliptical, c='red', label='Galáxias Elípticas', alpha=0.5)\n",
        "\n",
        "# Plotando as galáxias espirais em azul\n",
        "plt.scatter(color_spiral, Mr_spiral, c='blue', label='Galáxias Espirais', alpha=0.5)\n",
        "\n",
        "# Definindo limites para o gráfico\n",
        "plt.xlim(0, 1)       # Limites para (Mg - Mr)\n",
        "plt.ylim(-24, -17)   # Limites para Mr\n",
        "\n",
        "# Adicionando rótulos aos eixos e título\n",
        "plt.xlabel('Mg - Mr')\n",
        "plt.ylabel('Mr')\n",
        "plt.title('Diagrama de Cor (Mg - Mr) vs Brilho Intrínseco (Mr)')\n",
        "\n",
        "# Adicionando a legenda\n",
        "plt.legend()\n",
        "\n",
        "# Exibindo a grade\n",
        "plt.grid()\n",
        "\n",
        "# Mostrando o gráfico\n",
        "plt.show()\n"
      ]
    },
    {
      "cell_type": "markdown",
      "id": "ad8eeaaa-421a-4933-86aa-d8fa15c52011",
      "metadata": {
        "id": "ad8eeaaa-421a-4933-86aa-d8fa15c52011"
      },
      "source": [
        "Parabéns, você agora é um(a) astrofísico(a) extragalático(a)!"
      ]
    }
  ],
  "metadata": {
    "colab": {
      "provenance": []
    },
    "kernelspec": {
      "display_name": "Python 3",
      "language": "python",
      "name": "python3"
    },
    "language_info": {
      "codemirror_mode": {
        "name": "ipython",
        "version": 3
      },
      "file_extension": ".py",
      "mimetype": "text/x-python",
      "name": "python",
      "nbconvert_exporter": "python",
      "pygments_lexer": "ipython3",
      "version": "3.12.1"
    }
  },
  "nbformat": 4,
  "nbformat_minor": 5
}
