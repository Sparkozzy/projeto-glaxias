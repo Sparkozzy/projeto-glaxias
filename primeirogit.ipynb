{
 "cells": [
  {
   "cell_type": "code",
   "execution_count": 6,
   "metadata": {},
   "outputs": [
    {
     "name": "stdout",
     "output_type": "stream",
     "text": [
      "aprendemdoo git e portugez\n",
      "pepsi\n",
      "pepsi\n"
     ]
    }
   ],
   "source": [
    "print('aprendemdoo git e portugez')\n",
    "x=3\n",
    "if x>7:\n",
    "    print(\"cocacola\")\n",
    "\n",
    "while x<5:\n",
    "    x=x+1\n",
    "    print('pepsi')"
   ]
  }
 ],
 "metadata": {
  "kernelspec": {
   "display_name": "Python 3",
   "language": "python",
   "name": "python3"
  },
  "language_info": {
   "codemirror_mode": {
    "name": "ipython",
    "version": 3
   },
   "file_extension": ".py",
   "mimetype": "text/x-python",
   "name": "python",
   "nbconvert_exporter": "python",
   "pygments_lexer": "ipython3",
   "version": "3.12.1"
  }
 },
 "nbformat": 4,
 "nbformat_minor": 2
}
